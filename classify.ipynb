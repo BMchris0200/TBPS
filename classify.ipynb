{
 "cells": [
  {
   "cell_type": "code",
   "execution_count": 1,
   "metadata": {},
   "outputs": [],
   "source": [
    "import spacy\n",
    "import csv\n",
    "import random"
   ]
  },
  {
   "cell_type": "code",
   "execution_count": 2,
   "metadata": {},
   "outputs": [],
   "source": [
    "from typing import Optional, Union, Tuple, List, Callable, Dict\n",
    "from tqdm.notebook import tqdm\n",
    "import torch\n",
    "from diffusers import StableDiffusionPipeline, DDIMScheduler\n",
    "import torch.nn.functional as nnf\n",
    "import numpy as np\n",
    "import abc\n",
    "import ptp_utils\n",
    "import seq_aligner\n",
    "import shutil\n",
    "from torch.optim.adam import Adam\n",
    "from PIL import Image\n",
    "import os"
   ]
  },
  {
   "cell_type": "code",
   "execution_count": 3,
   "metadata": {},
   "outputs": [],
   "source": [
    "nlp = spacy.load(\"en_core_web_sm\")\n",
    "colors=[\"red\",\"yellow\",\"green\",\"purple\",\"white\",\"brown\",\"blue\",\"orange\",\"pink\",\"grey\"]\n",
    "cloths=[\"coat\",\"jacket\",\"shirt\",\"dress\",\"blouse\",\"top\",\"hoodie\",\"suit\",\"clothes\",\"cloth\",\n",
    "        \"pants\",\"shorts\",\"sweatshirt\",\"skirt\",\"robe\",\"romper\",\"shirts\",\"sweater\",\n",
    "        \"clothing\",\"tee-shirt\"]"
   ]
  },
  {
   "cell_type": "code",
   "execution_count": 7,
   "metadata": {},
   "outputs": [
    {
     "name": "stdout",
     "output_type": "stream",
     "text": [
      "2223\n"
     ]
    }
   ],
   "source": [
    "id = 4\n",
    "csv_reader = csv.reader(open(\"/data2/liuzhibin/STM/processed_images_cuhk_all/processed_images_cuhk_all_\"+str(id)+\".csv\"))\n",
    "count=0\n",
    "prompts=[]\n",
    "paths=[]\n",
    "phases=[]\n",
    "rows=[]\n",
    "for index,row in enumerate(csv_reader):\n",
    "    prompt,path=row\n",
    "    path = os.path.join('/data2/liuzhibin/STM',path)\n",
    "    '''\n",
    "    prompt = prompt.replace('[\\'','\"')\n",
    "    prompt = prompt.replace('\\']','\"')\n",
    "    prompt = prompt.replace('\"\"\"','\"')\n",
    "    prompt = prompt.replace('\"\"','\"')\n",
    "    '''\n",
    "    #prompt = '\"'+prompt+'\"'\n",
    "    prompt = prompt.replace('‘', '\\'')\n",
    "    prompt = prompt.replace('’', '\\'')\n",
    "    text = nlp(prompt)\n",
    "    new_prompt=''\n",
    "    exist=False\n",
    "    name = path.strip().split('/')[-1]\n",
    "    for idx,chunk in enumerate(text.noun_chunks):\n",
    "        phase = chunk.text\n",
    "        words = phase.strip().split(' ')\n",
    "        flag1 = flag2 = False\n",
    "        for word in words:    \n",
    "            if word in cloths:\n",
    "                flag1=True\n",
    "            if word in colors:\n",
    "                color = word\n",
    "                flag2=True\n",
    "        if flag1 and flag2 and len(prompt.split())<71:\n",
    "            count+=1\n",
    "            exist=True\n",
    "            new_color=color\n",
    "            while new_color==color:\n",
    "                new_color=random.choice(colors)\n",
    "            new_phase=phase.replace(color,new_color)\n",
    "            new_prompt=prompt.replace(phase,new_phase)\n",
    "            new_path=os.path.join('./modified_images_cuhk_all/images',name)\n",
    "            rows.append((prompt,new_prompt,path,new_path,phase,new_phase,new_color))\n",
    "            break\n",
    "    \n",
    "print(count)\n",
    "with open('./modified_images_cuhk_all/modified_images_'+str(id)+'.csv','w',encoding='utf8', newline='') as f:\n",
    "    writer = csv.writer(f)\n",
    "    writer.writerow(['origin prompt','new prompt','origin path','new path',\"origin phase\",\"new phase\",\"new color\"])\n",
    "    writer.writerows(rows)"
   ]
  }
 ],
 "metadata": {
  "kernelspec": {
   "display_name": "diffusion",
   "language": "python",
   "name": "diffusion"
  },
  "language_info": {
   "codemirror_mode": {
    "name": "ipython",
    "version": 3
   },
   "file_extension": ".py",
   "mimetype": "text/x-python",
   "name": "python",
   "nbconvert_exporter": "python",
   "pygments_lexer": "ipython3",
   "version": "3.10.8"
  },
  "orig_nbformat": 4
 },
 "nbformat": 4,
 "nbformat_minor": 2
}
